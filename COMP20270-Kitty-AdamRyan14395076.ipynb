{
 "cells": [
  {
   "cell_type": "markdown",
   "metadata": {},
   "source": [
    "## Objective\n",
    "\n",
    "Traditionally, when a group of friends would go on holiday ( ), they’d manage a kitty to keep track of shared expenses. In recent years, a number of phone apps have emerged to digitise this process. Examples include, ​Settle Up​, ​Splitwise​ and \n",
    "\n",
    "### Kittysplit\n",
    "The objective for this assignment is to design and implement a basic Kitty application.\n",
    "\n",
    "1. The first part of the exercise is to decide what are the main objects in the application. This will be done as a group exercise.\n",
    "2. The second part of the exercise will be to implement a basic Kitty system that can process the scenarios described in the Appendix.\n",
    "\n",
    "### Requirements\n",
    "\n",
    "1. An individual can only participate in a single event at any given time.\n",
    "2. Assume that all members share all transactions equally.\n",
    "3. Set-up:\n",
    "        a. Declare named individuals to participate in the event/activity.\n",
    "        b. Setup the activity: indicating the participating individuals.\n",
    "4. Code to add transactions. A transaction has (see Appendix):\n",
    "        a. Name: String\n",
    "        b. Amount: R+\n",
    "        c. Payee: MemberID\n",
    "5. Code to print the reconciliation, i.e. total cost, cost each, who owes who what?\n",
    "6. Submissions will be tested on the Samples in the Appendix and on similar test cases.\n",
    "\n",
    "\n",
    "### How to proceed:\n",
    "1. Start by creating basic versions of your classes.\n",
    "2. Create the methods, etc. to allow you to record the transactions for Sample 1.\n",
    "3. Write the code to track the total cost of the trip.\n",
    "4. Tackle the code for performing the reconciliation for Sample 1:\n",
    "        a. As a first step, calculate the balance (+,-) for each person.\n",
    "        b. Then figure out who pays who. Write code for the scenario is Sample 1 first.\n",
    "5. Extend the reconciliation code to handle Sample 2."
   ]
  },
  {
   "cell_type": "markdown",
   "metadata": {},
   "source": [
    "---\n",
    "\n",
    "## Solution\n",
    "\n",
    "### Classes\n",
    "\n",
    "---\n",
    "\n",
    "1. Person : A person has a first name and surname\n",
    "2. Group : A group is a collection of people.\n",
    "\n",
    "3. Transaction : A transaction completed by a person.\n",
    "4. Event : A series of transactions for a particular group of people.\n",
    "\n",
    "---\n",
    "\n",
    "### Method and Process\n",
    "\n",
    "1. Create person instances for each person participating.\n",
    "2. Create a group of those people by adding each participant\n",
    "3. Create an event the group will partake in.\n",
    "4. Add transactions for the group. \n",
    "5. Call balance_kitty\n",
    "\n",
    "NOTE: I am making the user define people instances first as you must call this before you can add them as a payee. This is to prevent issues with making first name only, creating person using first name, and then having issues with duplicate first names. I was going to get around this by requiring first name and surname and cleansing the concatenation and checking if full name was in the group, but it was better to just mandate names be made first so the instance identifier is clearly known.\n",
    "\n",
    "### Balance Kitty and Add Transactions\n",
    "\n",
    "1. Everything else is pretty self-explanatory, these are the most interesting pieces.\n",
    "\n",
    "Add Transaction to event:\n",
    "1. I've a dictionary of {Person: Value} for the total amount paid, the total amount owed, and the balance.\n",
    "2. The person who pays gets amount added to paid. Their balance is + the difference between what they paid and the group average of the transaction by definition. Everybody else's balance is the group average of the transaction, so their balance is minus this.\n",
    "3. As transactions get added, these amounts continuously update.\n",
    "\n",
    "Balance kitty:\n",
    "1. When you want to balance the kitty, I use the owed dictionary (which previously was identical to the balance dictionary) to achieve this.\n",
    "2. While the person with the minimum balance (which will be negative always) is less than zero, I check if the person with the highest balance is equal to the average amount per person. If it is, then I pop them from the dictionary so then the person with who previous was the second highest balance will be taken as the highest.\n",
    "3. If the highest balance is larger than abs the lowest balance, the person with the lowest balance can give all of their balance to the person with the highest. You add on what was paid to the negative balance, and subtract what was paid from the lowest balance.\n",
    "4. Otherwise, the highest balance can be completely paid off by the lowest balance.\n",
    "5. The loop ensures this continues until all of the lowest balances are zero, which implies everybody has been paid off via a series of transactions.\n",
    "6. Once everyone is paid off I set the dictionaries balance and owed to have zero values; personally I prefer to leave balance dict not zero to show what the balance had been prior, but I figured in an assignment context this could be confusing so I've set it to zero for now."
   ]
  },
  {
   "cell_type": "code",
   "execution_count": 1,
   "metadata": {},
   "outputs": [],
   "source": [
    "                  \n",
    "class Person:\n",
    "    def __init__(self,first_name,last_name):\n",
    "        \"\"\"Initialise Person\"\"\"\n",
    "        \n",
    "        if type(first_name)==type(last_name)==str:\n",
    "            def format_name(first_name,last_name):\n",
    "                \"\"\"Designed to format a name; removes capitalisation, certain characters\"\"\"\n",
    "                first_name=first_name.strip(' ').replace(' ','').replace(\"'\",'').replace('\"','').lower().capitalize()\n",
    "                last_name=last_name.strip(' ').replace(' ','').replace(\"'\",'').replace('\"','').lower().capitalize()\n",
    "                full_name=first_name+' '+last_name\n",
    "                name_list=[first_name,last_name,full_name]\n",
    "                return name_list\n",
    "            \n",
    "            proper_name=format_name(first_name,last_name)\n",
    "            \n",
    "            self.first_name=proper_name[0]\n",
    "            self.last_name=proper_name[1]\n",
    "            self.name=proper_name[2]\n",
    "            self.starting_balance=0\n",
    "            #Technically proper_name isnt needed, but I'd rather consistent names\n",
    "            \n",
    "        else:\n",
    "            print('A name must be a string, but you entered {}.'.format(first_name+' '+surname))\n",
    "\n",
    "\n",
    "class Group:\n",
    "    \"\"\"A group of people\"\"\"\n",
    "    def __init__(self):\n",
    "        \"\"\"Initialise Group\"\"\"\n",
    "        self.people=[]\n",
    "        self.people_names=[]\n",
    "        self.member_count=0\n",
    "        self.starting_balance=0 #self starting balance is the total of the starting balance of all current group members\n",
    "    \n",
    "    def add_participant(self,person):\n",
    "        \"\"\"Add a participant to a group\"\"\"\n",
    "        \n",
    "        print('In: add_participant(self,{})'.format(person))\n",
    "        current_group_members=self.people\n",
    "        \n",
    "        if person not in current_group_members:\n",
    "            self.people.append(person)\n",
    "            self.people_names.append(person.name)\n",
    "            self.member_count+=1\n",
    "            self.starting_balance+=person.starting_balance\n",
    "        \n",
    "        else:\n",
    "            print('{} is already a member of the group.'.format(person.name))\n",
    "            \n",
    "    def remove_participant(self, person):\n",
    "        \"\"\"Remove a participant from a group\"\"\"\n",
    "        \n",
    "        print('In: remove_participant(self,{})'.format(person))\n",
    "        current_group_member=self.people\n",
    "        \n",
    "        #person in the group\n",
    "        if person in current_group_members:\n",
    "            self.people.remove(person) #\n",
    "            self.people_names.remove(person.name)\n",
    "            self.member_count-=1\n",
    "            self.starting_balance-=person.starting_balance\n",
    "        \n",
    "        #person not in group\n",
    "        else:\n",
    "            print('{} is not a member of the group.'.format(person.name))        \n",
    "\n",
    "### Removing as in adding transactions I want you to know which person instance you're adding to and I don't want to do first name checks as that will cause issues for two people with the same first name\n",
    "#\n",
    "#    def add_participant_list_and_people_from_names(self,name_list):\n",
    "#        \"\"\"Add a participant to a group\"\"\"\n",
    "#        \n",
    "#        print('In: add_participant(self,{})'.format(person))\n",
    "#        current_group_members=self.people\n",
    "#        \n",
    "#        if type(person_list)==list:        \n",
    "#            for first_surname_pair in person_list:\n",
    "#                \n",
    "#                if type(first_surname_pair)==list and len(first_surname_pair)==2:\n",
    "#                    first_name=first_surname_pair[0]\n",
    "#                    surname=first_surname_pair[1]\n",
    "#                    person=Person(first_name,surname)\n",
    "#\n",
    "#                    if person not in current_group_members:\n",
    "#                        self.people.append(person)\n",
    "#                        self.people_names.append(person.name)\n",
    "#                        self.member_count+=1\n",
    "#                        self.starting_balance+=person.starting_balance\n",
    "#\n",
    "#                    else:\n",
    "#                        print('{} is already a member of the group.'.format(person.name))\n",
    "#                else:\n",
    "#                    print('To use this method, you need to enter a list containing a list with elements first name, surname')\n",
    "#\n",
    "#        else:\n",
    "#            print('To use this method, you need to enter a list containing a list with elements first name, surname')\n",
    "#\n",
    "###-----\n",
    "\n",
    "\n",
    "class Transaction_Detail:\n",
    "    def __init__(self,transaction_name,transaction_amount,payee):\n",
    "        \"Initialise\"\n",
    "        self.transaction_name=transaction_name\n",
    "        self.transaction_amount=transaction_amount\n",
    "        self.payee=payee\n",
    "        \n",
    "\n",
    "class EventDetail:\n",
    "    \"Event\"\n",
    "    \n",
    "    def __init__(self,name,group):\n",
    "        \"\"\"Initialise group\"\"\"\n",
    "        self.name=name\n",
    "        self.group=group\n",
    "        self.participant_count=group.member_count\n",
    "        \n",
    "        self.total_paid=0\n",
    "        self.total_spent=0\n",
    "        \n",
    "        self.paid_per_person={}\n",
    "        self.balance_per_person={}\n",
    "        self.owed_per_person={}\n",
    "        \n",
    "        self.transaction_list=[]\n",
    "        \n",
    "        for ppl in group.people:\n",
    "            self.paid_per_person[ppl]=0\n",
    "            self.owed_per_person[ppl]=0 #test after\n",
    "            self.balance_per_person[ppl]=0\n",
    "        \n",
    "    def add_transaction(self, transaction_name, transaction_amount, payee):\n",
    "        \"\"\"Add a transaction to the event\"\"\"\n",
    "\n",
    "        #Payee is a Person in the Group\n",
    "        if payee in self.group.people:\n",
    "            \n",
    "            #valid type\n",
    "            if type(transaction_amount)==float or type(transaction_amount)==int:\n",
    "                \n",
    "                #Positive R\n",
    "                if transaction_amount>=0:\n",
    "                    new_transaction_object=Transaction_Detail(transaction_name,transaction_amount,payee)\n",
    "                    self.transaction_list.append(new_transaction_object)\n",
    "                    self.paid_per_person[payee]+=transaction_amount\n",
    "                    self.total_spent+=transaction_amount\n",
    "                    self.paid_per_person[payee]+=transaction_amount                \n",
    "                    self.balance_per_person[payee]+=transaction_amount - (transaction_amount/self.group.member_count)\n",
    "                    self.owed_per_person[payee]+=transaction_amount - (transaction_amount/self.group.member_count)\n",
    "                    \n",
    "                    for prs in [prsn for prsn in self.group.people if prsn not in [payee]]:\n",
    "                        self.balance_per_person[prs]-=(transaction_amount/self.group.member_count)\n",
    "                        self.owed_per_person[prs]-=(transaction_amount/self.group.member_count)\n",
    "                    \n",
    "                    \n",
    "                #Not positive R\n",
    "                else:\n",
    "                    print('Sorry but refund transactions are not allowed')\n",
    "                    \n",
    "            #Invalid type\n",
    "            else:\n",
    "                print('Please enter a number for the transaction amount')\n",
    "        \n",
    "        #Payee is not a person\n",
    "        else:\n",
    "            print('Sorry, but the person responsible for this transaction is not in the group')       \n",
    "            \n",
    "    def check_all_balances(self):\n",
    "        total_statement='The total paid on this trip is €{}.\\n'.format(round(self.total_spent,2))\n",
    "        per_person_statement='Per person, this is: €{}.\\n'.format(round(self.total_spent/self.group.member_count,2))\n",
    "        \n",
    "        print_statement=\"\"\"\n",
    "The {} per person at present are as follows: \\\\n\n",
    "\"\"\"\n",
    "        add_statement=\"\"\"{} is: €{}\\n\"\"\"\n",
    "        all_statement=''\n",
    "        \n",
    "        for person in self.group.people:\n",
    "            all_statement+=add_statement.format(person.name,round(self.balance_per_person[person],2))\n",
    "        \n",
    "        final_print=total_statement+per_person_statement+print_statement.format('balances')+all_statement\n",
    "        print(final_print)\n",
    "        \n",
    "    def check_all_payments(self):\n",
    "        total_statement='The total paid on this trip is €{}.\\n'.format(round(self.total_spent,2))\n",
    "        per_person_statement='Per person, this is: €{}.\\n'.format(round(self.total_spent/self.group.member_count,2))\n",
    "        \n",
    "        print_statement=\"\"\"\n",
    "The {} per person at present are as follows: \\\\n\n",
    "\"\"\"\n",
    "        add_statement=\"\"\"{} is: €{}\\n\"\"\"\n",
    "        all_statement=''\n",
    "        \n",
    "        for person in self.group.people:\n",
    "            all_statement+=add_statement.format(person.name,round(self.paid_per_person[person],2))\n",
    "        \n",
    "        final_print=total_statement+per_person_statement+print_statement.format('payment totals')+all_statement\n",
    "        print(final_print)    \n",
    "    \n",
    "        \n",
    "    def balance_kitty(self):\n",
    "        self.total_per_person=self.total_spent/self.group.member_count\n",
    "        pay_dictionary=self.owed_per_person\n",
    "        self.check_all_balances()\n",
    "        \n",
    "        #while the person with the lowest owed balance is negative, they need to pay the person with the max balance less than the average total\n",
    "        while pay_dictionary[min(pay_dictionary, key=pay_dictionary.get)]<0:\n",
    "            person_who_owes=min(pay_dictionary, key=pay_dictionary.get)\n",
    "            person_who_owes_balance=pay_dictionary[min(pay_dictionary, key=pay_dictionary.get)]\n",
    "            \n",
    "            if pay_dictionary[max(pay_dictionary, key=pay_dictionary.get)]==self.total_per_person:\n",
    "                pay_dictionary.pop(max(pay_dictionary, key=pay_dictionary.get)) #If they have paid the average amount, they aren't owed anything.\n",
    "            \n",
    "            else:\n",
    "                person_to_pay=max(pay_dictionary, key=pay_dictionary.get) #has the highest amount less than the average\n",
    "                person_to_pay_balance=pay_dictionary[person_to_pay]\n",
    "                \n",
    "                difference_between_pay_and_owed=person_to_pay_balance-abs(person_who_owes_balance)\n",
    "                \n",
    "                #person with lowest amount can give all of the money to person with highest.\n",
    "                if difference_between_pay_and_owed>0:\n",
    "                    print('{} pays {}: €{}.'.format(person_who_owes.name,person_to_pay.name,round(person_who_owes_balance,2)))\n",
    "                    pay_dictionary[person_who_owes]+=abs(person_who_owes_balance)\n",
    "                    pay_dictionary[person_to_pay]-=abs(person_who_owes_balance)\n",
    "                    \n",
    "                #person with lowest can give the balance of the person with highest\n",
    "                else:\n",
    "                    print('{} pays {}: €{}.'.format(person_who_owes.name,person_to_pay.name,round(person_to_pay_balance,2)))\n",
    "                    pay_dictionary[person_who_owes]+=abs(person_to_pay_balance)\n",
    "                    pay_dictionary[person_to_pay]-=abs(person_to_pay_balance)\n",
    "        \n",
    "        for person in self.group.people:\n",
    "            self.owed_per_person[person]=0\n",
    "            self.balance_per_person[person]=0 #Note: Only doing this so as not to be misleading, but personally I prefer to leave this populated with what the balance was prior and this is a better reason to keep the two dictionaries separate\n",
    "        "
   ]
  },
  {
   "cell_type": "code",
   "execution_count": 2,
   "metadata": {},
   "outputs": [
    {
     "data": {
      "text/plain": [
       "True"
      ]
     },
     "execution_count": 2,
     "metadata": {},
     "output_type": "execute_result"
    }
   ],
   "source": [
    "James_1=Person('James',\"Mc'Donagh\")\n",
    "James_2=Person('James','Mc Donagh')\n",
    "James_3=Person('James','McDonagh')\n",
    "James_1.name==James_2.name==James_3.name"
   ]
  },
  {
   "cell_type": "code",
   "execution_count": 3,
   "metadata": {},
   "outputs": [
    {
     "name": "stdout",
     "output_type": "stream",
     "text": [
      "In: add_participant(self,<__main__.Person object at 0x7ffa4d3ca7f0>)\n",
      "In: add_participant(self,<__main__.Person object at 0x7ffa4d3ca7f0>)\n",
      "James Mcdonagh is already a member of the group.\n",
      "In: add_participant(self,<__main__.Person object at 0x7ffa4d3ca760>)\n",
      "In: add_participant(self,<__main__.Person object at 0x7ffa4d3ca8b0>)\n",
      "The Group of James has 3 members and the members are ['James Mcdonagh', 'James Mcdonagh', 'James Mcdonagh']\n"
     ]
    }
   ],
   "source": [
    "the_group_of_james=Group()\n",
    "the_group_of_james.add_participant(James_1)\n",
    "the_group_of_james.add_participant(James_1)\n",
    "the_group_of_james.add_participant(James_2)\n",
    "the_group_of_james.add_participant(James_3)\n",
    "print('The Group of James has {} members and the members are {}'.format(the_group_of_james.member_count, [james for james in the_group_of_james.people_names]))"
   ]
  },
  {
   "cell_type": "code",
   "execution_count": 4,
   "metadata": {},
   "outputs": [
    {
     "name": "stdout",
     "output_type": "stream",
     "text": [
      "In: add_participant(self,<__main__.Person object at 0x7ffa4d3c3be0>)\n",
      "In: add_participant(self,<__main__.Person object at 0x7ffa4d3c3ca0>)\n",
      "In: add_participant(self,<__main__.Person object at 0x7ffa4d3c3c10>)\n",
      "The Group has 3 members and the members are ['Annie Apple', 'Sally Sitwell', 'Bob Bill']\n"
     ]
    }
   ],
   "source": [
    "group_1=Group()\n",
    "Annie=Person('Annie','Apple')\n",
    "Sally=Person('Sally','Sitwell')\n",
    "Bob=Person('Bob','Bill')\n",
    "\n",
    "for x in [Annie, Sally, Bob]:\n",
    "    group_1.add_participant(x)\n",
    "    \n",
    "\n",
    "print('The Group has {} members and the members are {}'.format(group_1.member_count, [ps for ps in group_1.people_names]))"
   ]
  },
  {
   "cell_type": "code",
   "execution_count": 5,
   "metadata": {},
   "outputs": [
    {
     "data": {
      "text/plain": [
       "True"
      ]
     },
     "execution_count": 5,
     "metadata": {},
     "output_type": "execute_result"
    }
   ],
   "source": [
    "type(Annie)==Person"
   ]
  },
  {
   "cell_type": "code",
   "execution_count": 6,
   "metadata": {},
   "outputs": [
    {
     "data": {
      "text/plain": [
       "True"
      ]
     },
     "execution_count": 6,
     "metadata": {},
     "output_type": "execute_result"
    }
   ],
   "source": [
    "Annie in group_1.people"
   ]
  },
  {
   "cell_type": "markdown",
   "metadata": {},
   "source": [
    "## Proper Test Cases - Samples from Assignment Sheet"
   ]
  },
  {
   "cell_type": "code",
   "execution_count": 7,
   "metadata": {},
   "outputs": [],
   "source": [
    "test_group=EventDetail('Big Weekend Away',group_1)"
   ]
  },
  {
   "cell_type": "code",
   "execution_count": 8,
   "metadata": {},
   "outputs": [],
   "source": [
    "test_group.add_transaction('Tickets',180,Annie)\n",
    "test_group.add_transaction('Dinner',75,Sally)\n",
    "test_group.add_transaction('Drinks',19,Bob)\n",
    "test_group.add_transaction('Tax',16,Bob)"
   ]
  },
  {
   "cell_type": "code",
   "execution_count": 11,
   "metadata": {},
   "outputs": [
    {
     "name": "stdout",
     "output_type": "stream",
     "text": [
      "The total paid on this trip is €290.\n",
      "Per person, this is: €96.67.\n",
      "\n",
      "The balances per person at present are as follows: \\n\n",
      "Annie Apple is: €83.33\n",
      "Sally Sitwell is: €-21.67\n",
      "Bob Bill is: €-61.67\n",
      "\n",
      "Bob Bill pays Annie Apple: €-61.67.\n",
      "Sally Sitwell pays Annie Apple: €-21.67.\n"
     ]
    }
   ],
   "source": [
    "test_group.balance_kitty()"
   ]
  },
  {
   "cell_type": "code",
   "execution_count": 12,
   "metadata": {},
   "outputs": [
    {
     "name": "stdout",
     "output_type": "stream",
     "text": [
      "In: add_participant(self,<__main__.Person object at 0x7ffa4d51b4c0>)\n",
      "In: add_participant(self,<__main__.Person object at 0x7ffa4d51b220>)\n",
      "In: add_participant(self,<__main__.Person object at 0x7ffa4d51b190>)\n"
     ]
    }
   ],
   "source": [
    "group_2=Group()\n",
    "Cathy=Person('Cathy','Chalk')\n",
    "Robin=Person('Robin','Redford')\n",
    "Jen=Person('Jennifer','Juniper')\n",
    "\n",
    "for x in [Cathy, Robin, Jen]:\n",
    "    group_2.add_participant(x)"
   ]
  },
  {
   "cell_type": "code",
   "execution_count": 13,
   "metadata": {},
   "outputs": [],
   "source": [
    "test_group_2=EventDetail('Cinema',group_2)"
   ]
  },
  {
   "cell_type": "code",
   "execution_count": 14,
   "metadata": {},
   "outputs": [],
   "source": [
    "test_group_2.add_transaction('Tickets',33,Cathy)\n",
    "test_group_2.add_transaction('Dinner',60,Robin)\n",
    "test_group_2.add_transaction('Drinks',21,Jen)\n",
    "test_group_2.add_transaction('Taxi',27,Jen)"
   ]
  },
  {
   "cell_type": "code",
   "execution_count": 15,
   "metadata": {},
   "outputs": [
    {
     "name": "stdout",
     "output_type": "stream",
     "text": [
      "The total paid on this trip is €141.\n",
      "Per person, this is: €47.0.\n",
      "\n",
      "The balances per person at present are as follows: \\n\n",
      "Cathy Chalk is: €-14.0\n",
      "Robin Redford is: €13.0\n",
      "Jennifer Juniper is: €1.0\n",
      "\n",
      "Cathy Chalk pays Robin Redford: €13.0.\n",
      "Cathy Chalk pays Jennifer Juniper: €1.0.\n"
     ]
    }
   ],
   "source": [
    "test_group_2.balance_kitty()"
   ]
  },
  {
   "cell_type": "code",
   "execution_count": 16,
   "metadata": {},
   "outputs": [
    {
     "name": "stdout",
     "output_type": "stream",
     "text": [
      "In: add_participant(self,<__main__.Person object at 0x7ffa4d528bb0>)\n",
      "In: add_participant(self,<__main__.Person object at 0x7ffa4d529040>)\n",
      "In: add_participant(self,<__main__.Person object at 0x7ffa4d5290a0>)\n",
      "In: add_participant(self,<__main__.Person object at 0x7ffa4d529070>)\n",
      "The total paid on this trip is €365.\n",
      "Per person, this is: €91.25.\n",
      "\n",
      "The balances per person at present are as follows: \\n\n",
      "Nora Norman is: €18.75\n",
      "Eva Evangalista is: €-31.25\n",
      "Frankie Frank is: €33.75\n",
      "Harry Hoover is: €-21.25\n",
      "\n",
      "Eva Evangalista pays Frankie Frank: €-31.25.\n",
      "Harry Hoover pays Nora Norman: €18.75.\n",
      "Harry Hoover pays Frankie Frank: €2.5.\n"
     ]
    }
   ],
   "source": [
    "group_3=Group()\n",
    "Nora=Person('Nora','Norman')\n",
    "Eva=Person('Eva','Evangalista')\n",
    "Frankie=Person('Frankie','Frank')\n",
    "Harry=Person('Harry','Hoover')\n",
    "\n",
    "\n",
    "for x in [Nora, Eva, Frankie, Harry]:\n",
    "    group_3.add_participant(x)\n",
    "\n",
    "test_group_3=EventDetail('A weekend of lunch and dinners',group_3)\n",
    "\n",
    "\n",
    "test_group_3.add_transaction('Dinner',110,Nora)\n",
    "test_group_3.add_transaction('Lunch',60,Eva)\n",
    "test_group_3.add_transaction('Dinner',125,Frankie)\n",
    "test_group_3.add_transaction('Lunch',70,Harry)\n",
    "\n",
    "test_group_3.balance_kitty()"
   ]
  },
  {
   "cell_type": "code",
   "execution_count": null,
   "metadata": {},
   "outputs": [],
   "source": []
  },
  {
   "cell_type": "code",
   "execution_count": null,
   "metadata": {},
   "outputs": [],
   "source": []
  }
 ],
 "metadata": {
  "kernelspec": {
   "display_name": "Python 3",
   "language": "python",
   "name": "python3"
  },
  "language_info": {
   "codemirror_mode": {
    "name": "ipython",
    "version": 3
   },
   "file_extension": ".py",
   "mimetype": "text/x-python",
   "name": "python",
   "nbconvert_exporter": "python",
   "pygments_lexer": "ipython3",
   "version": "3.8.3"
  }
 },
 "nbformat": 4,
 "nbformat_minor": 4
}
